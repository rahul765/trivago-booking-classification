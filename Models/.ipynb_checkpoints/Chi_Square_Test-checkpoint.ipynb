{
 "cells": [
  {
   "cell_type": "code",
   "execution_count": 1,
   "metadata": {},
   "outputs": [],
   "source": [
    "import numpy as np\n",
    "import pandas as pd\n",
    "import matplotlib.pyplot as plt\n",
    "import math\n",
    "import seaborn as sns\n",
    "%matplotlib inline\n",
    "\n",
    "plt.rcParams[\"figure.figsize\"] = (12, 9) # (w, h)"
   ]
  },
  {
   "cell_type": "code",
   "execution_count": 2,
   "metadata": {},
   "outputs": [],
   "source": [
    "train = pd.read_csv('case_study_bookings_train.csv', sep='\\t')"
   ]
  },
  {
   "cell_type": "code",
   "execution_count": 3,
   "metadata": {},
   "outputs": [
    {
     "data": {
      "text/html": [
       "<div>\n",
       "<style scoped>\n",
       "    .dataframe tbody tr th:only-of-type {\n",
       "        vertical-align: middle;\n",
       "    }\n",
       "\n",
       "    .dataframe tbody tr th {\n",
       "        vertical-align: top;\n",
       "    }\n",
       "\n",
       "    .dataframe thead th {\n",
       "        text-align: right;\n",
       "    }\n",
       "</style>\n",
       "<table border=\"1\" class=\"dataframe\">\n",
       "  <thead>\n",
       "    <tr style=\"text-align: right;\">\n",
       "      <th></th>\n",
       "      <th>ymd</th>\n",
       "      <th>user_id</th>\n",
       "      <th>session_id</th>\n",
       "      <th>referer_code</th>\n",
       "      <th>is_app</th>\n",
       "      <th>agent_id</th>\n",
       "      <th>traffic_type</th>\n",
       "      <th>has_booking</th>\n",
       "    </tr>\n",
       "  </thead>\n",
       "  <tbody>\n",
       "    <tr>\n",
       "      <th>0</th>\n",
       "      <td>20170423</td>\n",
       "      <td>388309106223940</td>\n",
       "      <td>3052767322364990735</td>\n",
       "      <td>0</td>\n",
       "      <td>0</td>\n",
       "      <td>2</td>\n",
       "      <td>1</td>\n",
       "      <td>0</td>\n",
       "    </tr>\n",
       "    <tr>\n",
       "      <th>1</th>\n",
       "      <td>20170410</td>\n",
       "      <td>452426828488840</td>\n",
       "      <td>1022778951418899936</td>\n",
       "      <td>0</td>\n",
       "      <td>0</td>\n",
       "      <td>10</td>\n",
       "      <td>2</td>\n",
       "      <td>0</td>\n",
       "    </tr>\n",
       "    <tr>\n",
       "      <th>2</th>\n",
       "      <td>20170415</td>\n",
       "      <td>452426828488840</td>\n",
       "      <td>4191504489082712531</td>\n",
       "      <td>0</td>\n",
       "      <td>0</td>\n",
       "      <td>10</td>\n",
       "      <td>2</td>\n",
       "      <td>0</td>\n",
       "    </tr>\n",
       "    <tr>\n",
       "      <th>3</th>\n",
       "      <td>20170406</td>\n",
       "      <td>819438352219100</td>\n",
       "      <td>4560227804862289210</td>\n",
       "      <td>1</td>\n",
       "      <td>0</td>\n",
       "      <td>1</td>\n",
       "      <td>1</td>\n",
       "      <td>0</td>\n",
       "    </tr>\n",
       "    <tr>\n",
       "      <th>4</th>\n",
       "      <td>20170407</td>\n",
       "      <td>1113732603712480</td>\n",
       "      <td>4115013282086590434</td>\n",
       "      <td>0</td>\n",
       "      <td>0</td>\n",
       "      <td>9</td>\n",
       "      <td>2</td>\n",
       "      <td>0</td>\n",
       "    </tr>\n",
       "  </tbody>\n",
       "</table>\n",
       "</div>"
      ],
      "text/plain": [
       "        ymd           user_id           session_id  referer_code  is_app  \\\n",
       "0  20170423   388309106223940  3052767322364990735             0       0   \n",
       "1  20170410   452426828488840  1022778951418899936             0       0   \n",
       "2  20170415   452426828488840  4191504489082712531             0       0   \n",
       "3  20170406   819438352219100  4560227804862289210             1       0   \n",
       "4  20170407  1113732603712480  4115013282086590434             0       0   \n",
       "\n",
       "   agent_id  traffic_type  has_booking  \n",
       "0         2             1            0  \n",
       "1        10             2            0  \n",
       "2        10             2            0  \n",
       "3         1             1            0  \n",
       "4         9             2            0  "
      ]
     },
     "execution_count": 3,
     "metadata": {},
     "output_type": "execute_result"
    }
   ],
   "source": [
    "train.head()"
   ]
  },
  {
   "cell_type": "markdown",
   "metadata": {},
   "source": [
    "##### Checking if there is any null value in booking_train dataset"
   ]
  },
  {
   "cell_type": "code",
   "execution_count": 4,
   "metadata": {
    "scrolled": false
   },
   "outputs": [
    {
     "name": "stdout",
     "output_type": "stream",
     "text": [
      "0\n"
     ]
    }
   ],
   "source": [
    "print(train.isnull().values.sum())"
   ]
  },
  {
   "cell_type": "markdown",
   "metadata": {},
   "source": [
    "# Chi-square test\n",
    "\n",
    "### Between 'referer_code' and  'has_booking'"
   ]
  },
  {
   "cell_type": "code",
   "execution_count": 5,
   "metadata": {},
   "outputs": [
    {
     "data": {
      "text/html": [
       "<div>\n",
       "<style scoped>\n",
       "    .dataframe tbody tr th:only-of-type {\n",
       "        vertical-align: middle;\n",
       "    }\n",
       "\n",
       "    .dataframe tbody tr th {\n",
       "        vertical-align: top;\n",
       "    }\n",
       "\n",
       "    .dataframe thead th {\n",
       "        text-align: right;\n",
       "    }\n",
       "</style>\n",
       "<table border=\"1\" class=\"dataframe\">\n",
       "  <thead>\n",
       "    <tr style=\"text-align: right;\">\n",
       "      <th></th>\n",
       "      <th>referer_code</th>\n",
       "      <th>has_booking</th>\n",
       "    </tr>\n",
       "  </thead>\n",
       "  <tbody>\n",
       "    <tr>\n",
       "      <th>0</th>\n",
       "      <td>0</td>\n",
       "      <td>0</td>\n",
       "    </tr>\n",
       "    <tr>\n",
       "      <th>1</th>\n",
       "      <td>0</td>\n",
       "      <td>0</td>\n",
       "    </tr>\n",
       "    <tr>\n",
       "      <th>2</th>\n",
       "      <td>0</td>\n",
       "      <td>0</td>\n",
       "    </tr>\n",
       "    <tr>\n",
       "      <th>3</th>\n",
       "      <td>1</td>\n",
       "      <td>0</td>\n",
       "    </tr>\n",
       "    <tr>\n",
       "      <th>4</th>\n",
       "      <td>0</td>\n",
       "      <td>0</td>\n",
       "    </tr>\n",
       "  </tbody>\n",
       "</table>\n",
       "</div>"
      ],
      "text/plain": [
       "   referer_code  has_booking\n",
       "0             0            0\n",
       "1             0            0\n",
       "2             0            0\n",
       "3             1            0\n",
       "4             0            0"
      ]
     },
     "execution_count": 5,
     "metadata": {},
     "output_type": "execute_result"
    }
   ],
   "source": [
    "referCode_HasBooking = train[['referer_code', 'has_booking']]\n",
    "referCode_HasBooking.head()"
   ]
  },
  {
   "cell_type": "code",
   "execution_count": 6,
   "metadata": {},
   "outputs": [
    {
     "data": {
      "text/plain": [
       "1     112484\n",
       "0     105691\n",
       "99     66524\n",
       "15      9143\n",
       "11      6700\n",
       "10      3266\n",
       "24      3118\n",
       "21       406\n",
       "23       289\n",
       "17        53\n",
       "19         3\n",
       "Name: referer_code, dtype: int64"
      ]
     },
     "execution_count": 6,
     "metadata": {},
     "output_type": "execute_result"
    }
   ],
   "source": [
    "referCode_HasBooking['referer_code'].value_counts()"
   ]
  },
  {
   "cell_type": "code",
   "execution_count": 7,
   "metadata": {},
   "outputs": [
    {
     "data": {
      "text/plain": [
       "0    288030\n",
       "1     19647\n",
       "Name: has_booking, dtype: int64"
      ]
     },
     "execution_count": 7,
     "metadata": {},
     "output_type": "execute_result"
    }
   ],
   "source": [
    "referCode_HasBooking['has_booking'].value_counts()"
   ]
  },
  {
   "cell_type": "markdown",
   "metadata": {},
   "source": [
    "### The Null and Alternate Hypotheses for Chi-Square test\n",
    "\n",
    "##### H0:There is no statistically significant relationship between referer_code and has_booking. \n",
    "##### Ha:There is a statistically significant relationship between referer_code and has_booking. "
   ]
  },
  {
   "cell_type": "code",
   "execution_count": 8,
   "metadata": {},
   "outputs": [
    {
     "data": {
      "text/html": [
       "<div>\n",
       "<style scoped>\n",
       "    .dataframe tbody tr th:only-of-type {\n",
       "        vertical-align: middle;\n",
       "    }\n",
       "\n",
       "    .dataframe tbody tr th {\n",
       "        vertical-align: top;\n",
       "    }\n",
       "\n",
       "    .dataframe thead th {\n",
       "        text-align: right;\n",
       "    }\n",
       "</style>\n",
       "<table border=\"1\" class=\"dataframe\">\n",
       "  <thead>\n",
       "    <tr style=\"text-align: right;\">\n",
       "      <th>referer_code</th>\n",
       "      <th>0</th>\n",
       "      <th>1</th>\n",
       "      <th>10</th>\n",
       "      <th>11</th>\n",
       "      <th>15</th>\n",
       "      <th>17</th>\n",
       "      <th>19</th>\n",
       "      <th>21</th>\n",
       "      <th>23</th>\n",
       "      <th>24</th>\n",
       "      <th>99</th>\n",
       "      <th>All</th>\n",
       "    </tr>\n",
       "    <tr>\n",
       "      <th>has_booking</th>\n",
       "      <th></th>\n",
       "      <th></th>\n",
       "      <th></th>\n",
       "      <th></th>\n",
       "      <th></th>\n",
       "      <th></th>\n",
       "      <th></th>\n",
       "      <th></th>\n",
       "      <th></th>\n",
       "      <th></th>\n",
       "      <th></th>\n",
       "      <th></th>\n",
       "    </tr>\n",
       "  </thead>\n",
       "  <tbody>\n",
       "    <tr>\n",
       "      <th>0</th>\n",
       "      <td>98367</td>\n",
       "      <td>102661</td>\n",
       "      <td>2966</td>\n",
       "      <td>5921</td>\n",
       "      <td>9065</td>\n",
       "      <td>52</td>\n",
       "      <td>3</td>\n",
       "      <td>355</td>\n",
       "      <td>280</td>\n",
       "      <td>3118</td>\n",
       "      <td>65242</td>\n",
       "      <td>288030</td>\n",
       "    </tr>\n",
       "    <tr>\n",
       "      <th>1</th>\n",
       "      <td>7324</td>\n",
       "      <td>9823</td>\n",
       "      <td>300</td>\n",
       "      <td>779</td>\n",
       "      <td>78</td>\n",
       "      <td>1</td>\n",
       "      <td>0</td>\n",
       "      <td>51</td>\n",
       "      <td>9</td>\n",
       "      <td>0</td>\n",
       "      <td>1282</td>\n",
       "      <td>19647</td>\n",
       "    </tr>\n",
       "    <tr>\n",
       "      <th>All</th>\n",
       "      <td>105691</td>\n",
       "      <td>112484</td>\n",
       "      <td>3266</td>\n",
       "      <td>6700</td>\n",
       "      <td>9143</td>\n",
       "      <td>53</td>\n",
       "      <td>3</td>\n",
       "      <td>406</td>\n",
       "      <td>289</td>\n",
       "      <td>3118</td>\n",
       "      <td>66524</td>\n",
       "      <td>307677</td>\n",
       "    </tr>\n",
       "  </tbody>\n",
       "</table>\n",
       "</div>"
      ],
      "text/plain": [
       "referer_code       0       1    10    11    15  17  19   21   23    24     99  \\\n",
       "has_booking                                                                     \n",
       "0              98367  102661  2966  5921  9065  52   3  355  280  3118  65242   \n",
       "1               7324    9823   300   779    78   1   0   51    9     0   1282   \n",
       "All           105691  112484  3266  6700  9143  53   3  406  289  3118  66524   \n",
       "\n",
       "referer_code     All  \n",
       "has_booking           \n",
       "0             288030  \n",
       "1              19647  \n",
       "All           307677  "
      ]
     },
     "execution_count": 8,
     "metadata": {},
     "output_type": "execute_result"
    }
   ],
   "source": [
    "contingency_table = pd.crosstab(\n",
    "    referCode_HasBooking['has_booking'],\n",
    "    referCode_HasBooking['referer_code'],\n",
    "    margins = True\n",
    ")\n",
    "contingency_table"
   ]
  },
  {
   "cell_type": "markdown",
   "metadata": {},
   "source": [
    "#### Visualizing the Contingency Table with a Stacked Bar Chart"
   ]
  },
  {
   "cell_type": "code",
   "execution_count": 9,
   "metadata": {},
   "outputs": [
    {
     "data": {
      "image/png": "[encoded data removed]",
      "text/plain": [
       "<Figure size 720x360 with 1 Axes>"
      ]
     },
     "metadata": {
      "needs_background": "light"
     },
     "output_type": "display_data"
    }
   ],
   "source": [
    "#Assigns the frequency values\n",
    "No = contingency_table.iloc[0][0:11].values\n",
    "Yes = contingency_table.iloc[1][0:11].values\n",
    "\n",
    "#Plots the bar chart\n",
    "fig = plt.figure(figsize=(10, 5))\n",
    "sns.set(font_scale=1.8)\n",
    "categories = [\"0\",\"1\",\"10\",\"11\",\"15\",\"17\",\"19\",\"21\",\"23\",\"24\",\"99\"]\n",
    "p1 = plt.bar(categories, No, 0.55, color='#d62728')\n",
    "p2 = plt.bar(categories, Yes, 0.55, bottom=No)\n",
    "plt.legend((p2[0], p1[0]), ('No', 'Yes'))\n",
    "plt.xlabel('Refer Code')\n",
    "plt.ylabel('Has Booking')\n",
    "plt.show()"
   ]
  },
  {
   "cell_type": "code",
   "execution_count": 10,
   "metadata": {},
   "outputs": [
    {
     "data": {
      "text/plain": [
       "array([ 98367, 102661,   2966,   5921,   9065,     52,      3,    355,\n",
       "          280,   3118,  65242,   7324,   9823,    300,    779,     78,\n",
       "            1,      0,     51,      9,      0,   1282])"
      ]
     },
     "execution_count": 10,
     "metadata": {},
     "output_type": "execute_result"
    }
   ],
   "source": [
    "f_obs = np.append(contingency_table.iloc[0][0:11].values, contingency_table.iloc[1][0:11].values)\n",
    "f_obs"
   ]
  },
  {
   "cell_type": "code",
   "execution_count": 11,
   "metadata": {},
   "outputs": [
    {
     "data": {
      "text/plain": [
       "array([288030,  19647])"
      ]
     },
     "execution_count": 11,
     "metadata": {},
     "output_type": "execute_result"
    }
   ],
   "source": [
    "row_sums = contingency_table.iloc[0:2,11].values\n",
    "row_sums"
   ]
  },
  {
   "cell_type": "code",
   "execution_count": 12,
   "metadata": {},
   "outputs": [
    {
     "data": {
      "text/plain": [
       "array([105691, 112484,   3266,   6700,   9143,     53,      3,    406,\n",
       "          289,   3118,  66524])"
      ]
     },
     "execution_count": 12,
     "metadata": {},
     "output_type": "execute_result"
    }
   ],
   "source": [
    "col_sums = contingency_table.iloc[2,0:11].values\n",
    "col_sums"
   ]
  },
  {
   "cell_type": "code",
   "execution_count": 13,
   "metadata": {},
   "outputs": [
    {
     "data": {
      "text/plain": [
       "[98942.00323716104,\n",
       " 105301.22992618883,\n",
       " 3057.4465429655124,\n",
       " 6272.165290223189,\n",
       " 8559.165260971733,\n",
       " 49.61563587788493,\n",
       " 2.80843221950292,\n",
       " 380.0744937060619,\n",
       " 270.545637145448,\n",
       " 2918.897220136702,\n",
       " 62276.04832340409,\n",
       " 6748.996762838951,\n",
       " 7182.770073811173,\n",
       " 208.55345703448748,\n",
       " 427.8347097768114,\n",
       " 583.8347390282667,\n",
       " 3.384364122115075,\n",
       " 0.19156778049707973,\n",
       " 25.925506293938124,\n",
       " 18.454362854552013,\n",
       " 199.1027798632982,\n",
       " 4247.951676595911]"
      ]
     },
     "execution_count": 13,
     "metadata": {},
     "output_type": "execute_result"
    }
   ],
   "source": [
    "total = contingency_table.loc['All', 'All']\n",
    "\n",
    "f_expected = []\n",
    "for j in range(2):\n",
    "    for i in col_sums:\n",
    "        f_expected.append(i*row_sums[j]/total)\n",
    "f_expected"
   ]
  },
  {
   "cell_type": "code",
   "execution_count": 14,
   "metadata": {},
   "outputs": [
    {
     "name": "stdout",
     "output_type": "stream",
     "text": [
      "Chi-squared Statistic: 4365.767623826621\n"
     ]
    }
   ],
   "source": [
    "chi_squared_statistic_referer_code = ((f_obs - f_expected)**2/f_expected).sum()\n",
    "print('Chi-squared Statistic: {}'.format(chi_squared_statistic_referer_code))"
   ]
  },
  {
   "cell_type": "code",
   "execution_count": 15,
   "metadata": {},
   "outputs": [
    {
     "name": "stdout",
     "output_type": "stream",
     "text": [
      "Degrees of Freedom: 10\n"
     ]
    }
   ],
   "source": [
    "dof_referer_code = (len(row_sums)-1)*(len(col_sums)-1)\n",
    "print(\"Degrees of Freedom: {}\".format(dof_referer_code))"
   ]
  },
  {
   "cell_type": "markdown",
   "metadata": {},
   "source": [
    "# Chi-square test\n",
    "\n",
    "### Between 'agent_id' and  'has_booking'"
   ]
  },
  {
   "cell_type": "code",
   "execution_count": 16,
   "metadata": {},
   "outputs": [
    {
     "data": {
      "text/html": [
       "<div>\n",
       "<style scoped>\n",
       "    .dataframe tbody tr th:only-of-type {\n",
       "        vertical-align: middle;\n",
       "    }\n",
       "\n",
       "    .dataframe tbody tr th {\n",
       "        vertical-align: top;\n",
       "    }\n",
       "\n",
       "    .dataframe thead th {\n",
       "        text-align: right;\n",
       "    }\n",
       "</style>\n",
       "<table border=\"1\" class=\"dataframe\">\n",
       "  <thead>\n",
       "    <tr style=\"text-align: right;\">\n",
       "      <th></th>\n",
       "      <th>agent_id</th>\n",
       "      <th>has_booking</th>\n",
       "    </tr>\n",
       "  </thead>\n",
       "  <tbody>\n",
       "    <tr>\n",
       "      <th>0</th>\n",
       "      <td>2</td>\n",
       "      <td>0</td>\n",
       "    </tr>\n",
       "    <tr>\n",
       "      <th>1</th>\n",
       "      <td>10</td>\n",
       "      <td>0</td>\n",
       "    </tr>\n",
       "    <tr>\n",
       "      <th>2</th>\n",
       "      <td>10</td>\n",
       "      <td>0</td>\n",
       "    </tr>\n",
       "    <tr>\n",
       "      <th>3</th>\n",
       "      <td>1</td>\n",
       "      <td>0</td>\n",
       "    </tr>\n",
       "    <tr>\n",
       "      <th>4</th>\n",
       "      <td>9</td>\n",
       "      <td>0</td>\n",
       "    </tr>\n",
       "  </tbody>\n",
       "</table>\n",
       "</div>"
      ],
      "text/plain": [
       "   agent_id  has_booking\n",
       "0         2            0\n",
       "1        10            0\n",
       "2        10            0\n",
       "3         1            0\n",
       "4         9            0"
      ]
     },
     "execution_count": 16,
     "metadata": {},
     "output_type": "execute_result"
    }
   ],
   "source": [
    "agent_id_HasBooking = train[['agent_id', 'has_booking']]\n",
    "agent_id_HasBooking.head()"
   ]
  },
  {
   "cell_type": "code",
   "execution_count": 17,
   "metadata": {},
   "outputs": [
    {
     "data": {
      "text/plain": [
       "9     72119\n",
       "10    56731\n",
       "1     56089\n",
       "8     52646\n",
       "6     19068\n",
       "13    15811\n",
       "7     12117\n",
       "14    10003\n",
       "2      9391\n",
       "12     1608\n",
       "0      1255\n",
       "11      653\n",
       "4        88\n",
       "3        55\n",
       "5        43\n",
       "Name: agent_id, dtype: int64"
      ]
     },
     "execution_count": 17,
     "metadata": {},
     "output_type": "execute_result"
    }
   ],
   "source": [
    "agent_id_HasBooking['agent_id'].value_counts()"
   ]
  },
  {
   "cell_type": "code",
   "execution_count": 18,
   "metadata": {},
   "outputs": [
    {
     "data": {
      "text/plain": [
       "0    288030\n",
       "1     19647\n",
       "Name: has_booking, dtype: int64"
      ]
     },
     "execution_count": 18,
     "metadata": {},
     "output_type": "execute_result"
    }
   ],
   "source": [
    "referCode_HasBooking['has_booking'].value_counts()"
   ]
  },
  {
   "cell_type": "markdown",
   "metadata": {},
   "source": [
    "### The Null and Alternate Hypotheses for Chi-Square test\n",
    "\n",
    "##### H0:There is no statistically significant relationship between referer_code and has_booking. \n",
    "##### Ha:There is a statistically significant relationship between referer_code and has_booking. "
   ]
  },
  {
   "cell_type": "code",
   "execution_count": 19,
   "metadata": {},
   "outputs": [
    {
     "data": {
      "text/html": [
       "<div>\n",
       "<style scoped>\n",
       "    .dataframe tbody tr th:only-of-type {\n",
       "        vertical-align: middle;\n",
       "    }\n",
       "\n",
       "    .dataframe tbody tr th {\n",
       "        vertical-align: top;\n",
       "    }\n",
       "\n",
       "    .dataframe thead th {\n",
       "        text-align: right;\n",
       "    }\n",
       "</style>\n",
       "<table border=\"1\" class=\"dataframe\">\n",
       "  <thead>\n",
       "    <tr style=\"text-align: right;\">\n",
       "      <th>agent_id</th>\n",
       "      <th>0</th>\n",
       "      <th>1</th>\n",
       "      <th>2</th>\n",
       "      <th>3</th>\n",
       "      <th>4</th>\n",
       "      <th>5</th>\n",
       "      <th>6</th>\n",
       "      <th>7</th>\n",
       "      <th>8</th>\n",
       "      <th>9</th>\n",
       "      <th>10</th>\n",
       "      <th>11</th>\n",
       "      <th>12</th>\n",
       "      <th>13</th>\n",
       "      <th>14</th>\n",
       "      <th>All</th>\n",
       "    </tr>\n",
       "    <tr>\n",
       "      <th>has_booking</th>\n",
       "      <th></th>\n",
       "      <th></th>\n",
       "      <th></th>\n",
       "      <th></th>\n",
       "      <th></th>\n",
       "      <th></th>\n",
       "      <th></th>\n",
       "      <th></th>\n",
       "      <th></th>\n",
       "      <th></th>\n",
       "      <th></th>\n",
       "      <th></th>\n",
       "      <th></th>\n",
       "      <th></th>\n",
       "      <th></th>\n",
       "      <th></th>\n",
       "    </tr>\n",
       "  </thead>\n",
       "  <tbody>\n",
       "    <tr>\n",
       "      <th>0</th>\n",
       "      <td>1191</td>\n",
       "      <td>51166</td>\n",
       "      <td>8487</td>\n",
       "      <td>54</td>\n",
       "      <td>88</td>\n",
       "      <td>43</td>\n",
       "      <td>17370</td>\n",
       "      <td>10821</td>\n",
       "      <td>49720</td>\n",
       "      <td>68410</td>\n",
       "      <td>54456</td>\n",
       "      <td>616</td>\n",
       "      <td>1566</td>\n",
       "      <td>15076</td>\n",
       "      <td>8966</td>\n",
       "      <td>288030</td>\n",
       "    </tr>\n",
       "    <tr>\n",
       "      <th>1</th>\n",
       "      <td>64</td>\n",
       "      <td>4923</td>\n",
       "      <td>904</td>\n",
       "      <td>1</td>\n",
       "      <td>0</td>\n",
       "      <td>0</td>\n",
       "      <td>1698</td>\n",
       "      <td>1296</td>\n",
       "      <td>2926</td>\n",
       "      <td>3709</td>\n",
       "      <td>2275</td>\n",
       "      <td>37</td>\n",
       "      <td>42</td>\n",
       "      <td>735</td>\n",
       "      <td>1037</td>\n",
       "      <td>19647</td>\n",
       "    </tr>\n",
       "    <tr>\n",
       "      <th>All</th>\n",
       "      <td>1255</td>\n",
       "      <td>56089</td>\n",
       "      <td>9391</td>\n",
       "      <td>55</td>\n",
       "      <td>88</td>\n",
       "      <td>43</td>\n",
       "      <td>19068</td>\n",
       "      <td>12117</td>\n",
       "      <td>52646</td>\n",
       "      <td>72119</td>\n",
       "      <td>56731</td>\n",
       "      <td>653</td>\n",
       "      <td>1608</td>\n",
       "      <td>15811</td>\n",
       "      <td>10003</td>\n",
       "      <td>307677</td>\n",
       "    </tr>\n",
       "  </tbody>\n",
       "</table>\n",
       "</div>"
      ],
      "text/plain": [
       "agent_id        0      1     2   3   4   5      6      7      8      9     10  \\\n",
       "has_booking                                                                     \n",
       "0            1191  51166  8487  54  88  43  17370  10821  49720  68410  54456   \n",
       "1              64   4923   904   1   0   0   1698   1296   2926   3709   2275   \n",
       "All          1255  56089  9391  55  88  43  19068  12117  52646  72119  56731   \n",
       "\n",
       "agent_id      11    12     13     14     All  \n",
       "has_booking                                   \n",
       "0            616  1566  15076   8966  288030  \n",
       "1             37    42    735   1037   19647  \n",
       "All          653  1608  15811  10003  307677  "
      ]
     },
     "execution_count": 19,
     "metadata": {},
     "output_type": "execute_result"
    }
   ],
   "source": [
    "contingency_table = pd.crosstab(\n",
    "    agent_id_HasBooking['has_booking'],\n",
    "    agent_id_HasBooking['agent_id'],\n",
    "    margins = True\n",
    ")\n",
    "contingency_table"
   ]
  },
  {
   "cell_type": "markdown",
   "metadata": {},
   "source": [
    "#### Visualizing the Contingency Table with a Stacked Bar Chart"
   ]
  },
  {
   "cell_type": "code",
   "execution_count": 20,
   "metadata": {},
   "outputs": [
    {
     "data": {
      "image/png": "[encoded data removed]",
      "text/plain": [
       "<Figure size 720x360 with 1 Axes>"
      ]
     },
     "metadata": {},
     "output_type": "display_data"
    }
   ],
   "source": [
    "#Assigns the frequency values\n",
    "No = contingency_table.iloc[0][0:15].values\n",
    "Yes = contingency_table.iloc[1][0:15].values\n",
    "\n",
    "#Plots the bar chart\n",
    "fig = plt.figure(figsize=(10, 5))\n",
    "sns.set(font_scale=1.8)\n",
    "categories = [\"0\",\"1\",\"2\",\"3\",\"4\",\"5\",\"6\",\"7\",\"8\",\"9\",\"10\",\"11\",\"12\",\"13\",\"14\"]\n",
    "p1 = plt.bar(categories, No, 0.55, color='#d62728')\n",
    "p2 = plt.bar(categories, Yes, 0.55, bottom=No)\n",
    "plt.legend((p2[0], p1[0]), ('No', 'Yes'))\n",
    "plt.xlabel('Refer Code')\n",
    "plt.ylabel('Has Booking')\n",
    "plt.show()"
   ]
  },
  {
   "cell_type": "code",
   "execution_count": 21,
   "metadata": {},
   "outputs": [
    {
     "data": {
      "text/plain": [
       "array([ 1191, 51166,  8487,    54,    88,    43, 17370, 10821, 49720,\n",
       "       68410, 54456,   616,  1566, 15076,  8966,    64,  4923,   904,\n",
       "           1,     0,     0,  1698,  1296,  2926,  3709,  2275,    37,\n",
       "          42,   735,  1037])"
      ]
     },
     "execution_count": 21,
     "metadata": {},
     "output_type": "execute_result"
    }
   ],
   "source": [
    "f_obs = np.append(contingency_table.iloc[0][0:15].values, contingency_table.iloc[1][0:15].values)\n",
    "f_obs"
   ]
  },
  {
   "cell_type": "code",
   "execution_count": 22,
   "metadata": {},
   "outputs": [
    {
     "data": {
      "text/plain": [
       "array([288030,  19647])"
      ]
     },
     "execution_count": 22,
     "metadata": {},
     "output_type": "execute_result"
    }
   ],
   "source": [
    "row_sums = contingency_table.iloc[0:2,15].values\n",
    "row_sums"
   ]
  },
  {
   "cell_type": "code",
   "execution_count": 23,
   "metadata": {},
   "outputs": [
    {
     "data": {
      "text/plain": [
       "array([ 1255, 56089,  9391,    55,    88,    43, 19068, 12117, 52646,\n",
       "       72119, 56731,   653,  1608, 15811, 10003])"
      ]
     },
     "execution_count": 23,
     "metadata": {},
     "output_type": "execute_result"
    }
   ],
   "source": [
    "col_sums = contingency_table.iloc[2,0:15].values\n",
    "col_sums"
   ]
  },
  {
   "cell_type": "code",
   "execution_count": 24,
   "metadata": {},
   "outputs": [
    {
     "data": {
      "text/plain": [
       "[1174.8608118253883,\n",
       " 52507.38491989976,\n",
       " 8791.328991117309,\n",
       " 51.487924024220206,\n",
       " 82.38067843875233,\n",
       " 40.254195146208524,\n",
       " 17850.39518716056,\n",
       " 11343.257734572295,\n",
       " 49284.24087598358,\n",
       " 67513.77441277704,\n",
       " 53108.38941487339,\n",
       " 611.302079778469,\n",
       " 1505.3196696535654,\n",
       " 14801.373940853557,\n",
       " 9364.249163895904,\n",
       " 80.13918817461169,\n",
       " 3581.615080100235,\n",
       " 599.6710088826919,\n",
       " 3.512075975779795,\n",
       " 5.619321561247672,\n",
       " 2.7458048537914763,\n",
       " 1217.6048128394389,\n",
       " 773.742265427705,\n",
       " 3361.7591240164197,\n",
       " 4605.225587222964,\n",
       " 3622.61058512661,\n",
       " 41.69792022153102,\n",
       " 102.68033034643473,\n",
       " 1009.6260591464426,\n",
       " 638.7508361040962]"
      ]
     },
     "execution_count": 24,
     "metadata": {},
     "output_type": "execute_result"
    }
   ],
   "source": [
    "total = contingency_table.loc['All', 'All']\n",
    "\n",
    "f_expected = []\n",
    "for j in range(2):\n",
    "    for i in col_sums:\n",
    "        f_expected.append(i*row_sums[j]/total)\n",
    "f_expected"
   ]
  },
  {
   "cell_type": "code",
   "execution_count": 25,
   "metadata": {},
   "outputs": [
    {
     "name": "stdout",
     "output_type": "stream",
     "text": [
      "Chi-squared Statistic: 2461.0311853484927\n"
     ]
    }
   ],
   "source": [
    "chi_squared_statistic_agent_id = ((f_obs - f_expected)**2/f_expected).sum()\n",
    "print('Chi-squared Statistic: {}'.format(chi_squared_statistic_agent_id))"
   ]
  },
  {
   "cell_type": "code",
   "execution_count": 26,
   "metadata": {},
   "outputs": [
    {
     "name": "stdout",
     "output_type": "stream",
     "text": [
      "Degrees of Freedom: 14\n"
     ]
    }
   ],
   "source": [
    "dof_agent_id = (len(row_sums)-1)*(len(col_sums)-1)\n",
    "print(\"Degrees of Freedom: {}\".format(dof_agent_id))"
   ]
  },
  {
   "cell_type": "markdown",
   "metadata": {},
   "source": [
    "# Chi-square test\n",
    "\n",
    "### Between 'is_app' and  'has_booking'"
   ]
  },
  {
   "cell_type": "code",
   "execution_count": 27,
   "metadata": {},
   "outputs": [
    {
     "data": {
      "text/html": [
       "<div>\n",
       "<style scoped>\n",
       "    .dataframe tbody tr th:only-of-type {\n",
       "        vertical-align: middle;\n",
       "    }\n",
       "\n",
       "    .dataframe tbody tr th {\n",
       "        vertical-align: top;\n",
       "    }\n",
       "\n",
       "    .dataframe thead th {\n",
       "        text-align: right;\n",
       "    }\n",
       "</style>\n",
       "<table border=\"1\" class=\"dataframe\">\n",
       "  <thead>\n",
       "    <tr style=\"text-align: right;\">\n",
       "      <th></th>\n",
       "      <th>is_app</th>\n",
       "      <th>has_booking</th>\n",
       "    </tr>\n",
       "  </thead>\n",
       "  <tbody>\n",
       "    <tr>\n",
       "      <th>0</th>\n",
       "      <td>0</td>\n",
       "      <td>0</td>\n",
       "    </tr>\n",
       "    <tr>\n",
       "      <th>1</th>\n",
       "      <td>0</td>\n",
       "      <td>0</td>\n",
       "    </tr>\n",
       "    <tr>\n",
       "      <th>2</th>\n",
       "      <td>0</td>\n",
       "      <td>0</td>\n",
       "    </tr>\n",
       "    <tr>\n",
       "      <th>3</th>\n",
       "      <td>0</td>\n",
       "      <td>0</td>\n",
       "    </tr>\n",
       "    <tr>\n",
       "      <th>4</th>\n",
       "      <td>0</td>\n",
       "      <td>0</td>\n",
       "    </tr>\n",
       "  </tbody>\n",
       "</table>\n",
       "</div>"
      ],
      "text/plain": [
       "   is_app  has_booking\n",
       "0       0            0\n",
       "1       0            0\n",
       "2       0            0\n",
       "3       0            0\n",
       "4       0            0"
      ]
     },
     "execution_count": 27,
     "metadata": {},
     "output_type": "execute_result"
    }
   ],
   "source": [
    "is_app_HasBooking = train[['is_app', 'has_booking']]\n",
    "is_app_HasBooking.head()"
   ]
  },
  {
   "cell_type": "code",
   "execution_count": 28,
   "metadata": {},
   "outputs": [
    {
     "data": {
      "text/plain": [
       "0    285041\n",
       "1     22636\n",
       "Name: is_app, dtype: int64"
      ]
     },
     "execution_count": 28,
     "metadata": {},
     "output_type": "execute_result"
    }
   ],
   "source": [
    "is_app_HasBooking['is_app'].value_counts()"
   ]
  },
  {
   "cell_type": "code",
   "execution_count": 29,
   "metadata": {},
   "outputs": [
    {
     "data": {
      "text/plain": [
       "0    288030\n",
       "1     19647\n",
       "Name: has_booking, dtype: int64"
      ]
     },
     "execution_count": 29,
     "metadata": {},
     "output_type": "execute_result"
    }
   ],
   "source": [
    "is_app_HasBooking['has_booking'].value_counts()"
   ]
  },
  {
   "cell_type": "markdown",
   "metadata": {},
   "source": [
    "### The Null and Alternate Hypotheses for Chi-Square test\n",
    "\n",
    "##### H0:There is no statistically significant relationship between referer_code and has_booking. \n",
    "##### Ha:There is a statistically significant relationship between referer_code and has_booking. "
   ]
  },
  {
   "cell_type": "code",
   "execution_count": 30,
   "metadata": {},
   "outputs": [
    {
     "data": {
      "text/html": [
       "<div>\n",
       "<style scoped>\n",
       "    .dataframe tbody tr th:only-of-type {\n",
       "        vertical-align: middle;\n",
       "    }\n",
       "\n",
       "    .dataframe tbody tr th {\n",
       "        vertical-align: top;\n",
       "    }\n",
       "\n",
       "    .dataframe thead th {\n",
       "        text-align: right;\n",
       "    }\n",
       "</style>\n",
       "<table border=\"1\" class=\"dataframe\">\n",
       "  <thead>\n",
       "    <tr style=\"text-align: right;\">\n",
       "      <th>is_app</th>\n",
       "      <th>0</th>\n",
       "      <th>1</th>\n",
       "      <th>All</th>\n",
       "    </tr>\n",
       "    <tr>\n",
       "      <th>has_booking</th>\n",
       "      <th></th>\n",
       "      <th></th>\n",
       "      <th></th>\n",
       "    </tr>\n",
       "  </thead>\n",
       "  <tbody>\n",
       "    <tr>\n",
       "      <th>0</th>\n",
       "      <td>266318</td>\n",
       "      <td>21712</td>\n",
       "      <td>288030</td>\n",
       "    </tr>\n",
       "    <tr>\n",
       "      <th>1</th>\n",
       "      <td>18723</td>\n",
       "      <td>924</td>\n",
       "      <td>19647</td>\n",
       "    </tr>\n",
       "    <tr>\n",
       "      <th>All</th>\n",
       "      <td>285041</td>\n",
       "      <td>22636</td>\n",
       "      <td>307677</td>\n",
       "    </tr>\n",
       "  </tbody>\n",
       "</table>\n",
       "</div>"
      ],
      "text/plain": [
       "is_app            0      1     All\n",
       "has_booking                       \n",
       "0            266318  21712  288030\n",
       "1             18723    924   19647\n",
       "All          285041  22636  307677"
      ]
     },
     "execution_count": 30,
     "metadata": {},
     "output_type": "execute_result"
    }
   ],
   "source": [
    "contingency_table = pd.crosstab(\n",
    "    is_app_HasBooking['has_booking'],\n",
    "    is_app_HasBooking['is_app'],\n",
    "    margins = True\n",
    ")\n",
    "contingency_table"
   ]
  },
  {
   "cell_type": "markdown",
   "metadata": {},
   "source": [
    "#### Visualizing the Contingency Table with a Stacked Bar Chart"
   ]
  },
  {
   "cell_type": "code",
   "execution_count": 31,
   "metadata": {},
   "outputs": [
    {
     "data": {
      "image/png": "[encoded data removed]",
      "text/plain": [
       "<Figure size 720x360 with 1 Axes>"
      ]
     },
     "metadata": {},
     "output_type": "display_data"
    }
   ],
   "source": [
    "#Assigns the frequency values\n",
    "No = contingency_table.iloc[0][0:2].values\n",
    "Yes = contingency_table.iloc[1][0:2].values\n",
    "\n",
    "#Plots the bar chart\n",
    "fig = plt.figure(figsize=(10, 5))\n",
    "sns.set(font_scale=1.8)\n",
    "categories = [\"0\",\"1\"]\n",
    "p1 = plt.bar(categories, No, 0.55, color='#d62728')\n",
    "p2 = plt.bar(categories, Yes, 0.55, bottom=No)\n",
    "plt.legend((p2[0], p1[0]), ('No', 'Yes'))\n",
    "plt.xlabel('Is App')\n",
    "plt.ylabel('Has Booking')\n",
    "plt.show()"
   ]
  },
  {
   "cell_type": "code",
   "execution_count": 32,
   "metadata": {},
   "outputs": [
    {
     "data": {
      "text/plain": [
       "array([266318,  21712,  18723,    924])"
      ]
     },
     "execution_count": 32,
     "metadata": {},
     "output_type": "execute_result"
    }
   ],
   "source": [
    "f_obs = np.append(contingency_table.iloc[0][0:2].values, contingency_table.iloc[1][0:2].values)\n",
    "f_obs"
   ]
  },
  {
   "cell_type": "code",
   "execution_count": 33,
   "metadata": {},
   "outputs": [
    {
     "data": {
      "text/plain": [
       "array([288030,  19647])"
      ]
     },
     "execution_count": 33,
     "metadata": {},
     "output_type": "execute_result"
    }
   ],
   "source": [
    "row_sums = contingency_table.iloc[0:2,2].values\n",
    "row_sums"
   ]
  },
  {
   "cell_type": "code",
   "execution_count": 34,
   "metadata": {},
   "outputs": [
    {
     "data": {
      "text/plain": [
       "array([285041,  22636])"
      ]
     },
     "execution_count": 34,
     "metadata": {},
     "output_type": "execute_result"
    }
   ],
   "source": [
    "col_sums = contingency_table.iloc[2,0:2].values\n",
    "col_sums"
   ]
  },
  {
   "cell_type": "code",
   "execution_count": 35,
   "metadata": {},
   "outputs": [
    {
     "data": {
      "text/plain": [
       "[266839.4427597773, 21190.5572402227, 18201.5572402227, 1445.442759777299]"
      ]
     },
     "execution_count": 35,
     "metadata": {},
     "output_type": "execute_result"
    }
   ],
   "source": [
    "total = contingency_table.loc['All', 'All']\n",
    "\n",
    "f_expected = []\n",
    "for j in range(2):\n",
    "    for i in col_sums:\n",
    "        f_expected.append(i*row_sums[j]/total)\n",
    "f_expected"
   ]
  },
  {
   "cell_type": "code",
   "execution_count": 36,
   "metadata": {},
   "outputs": [
    {
     "name": "stdout",
     "output_type": "stream",
     "text": [
      "Chi-squared Statistic: 216.89892149487767\n"
     ]
    }
   ],
   "source": [
    "chi_squared_statistic_is_app = ((f_obs - f_expected)**2/f_expected).sum()\n",
    "print('Chi-squared Statistic: {}'.format(chi_squared_statistic_is_app))"
   ]
  },
  {
   "cell_type": "code",
   "execution_count": 37,
   "metadata": {},
   "outputs": [
    {
     "name": "stdout",
     "output_type": "stream",
     "text": [
      "Degrees of Freedom: 1\n"
     ]
    }
   ],
   "source": [
    "dof_is_app = (len(row_sums)-1)*(len(col_sums)-1)\n",
    "print(\"Degrees of Freedom: {}\".format(dof_is_app))"
   ]
  },
  {
   "cell_type": "markdown",
   "metadata": {},
   "source": [
    "# Chi-square test\n",
    "\n",
    "### Between 'traffic_type' and  'has_booking'"
   ]
  },
  {
   "cell_type": "code",
   "execution_count": 38,
   "metadata": {},
   "outputs": [
    {
     "data": {
      "text/html": [
       "<div>\n",
       "<style scoped>\n",
       "    .dataframe tbody tr th:only-of-type {\n",
       "        vertical-align: middle;\n",
       "    }\n",
       "\n",
       "    .dataframe tbody tr th {\n",
       "        vertical-align: top;\n",
       "    }\n",
       "\n",
       "    .dataframe thead th {\n",
       "        text-align: right;\n",
       "    }\n",
       "</style>\n",
       "<table border=\"1\" class=\"dataframe\">\n",
       "  <thead>\n",
       "    <tr style=\"text-align: right;\">\n",
       "      <th></th>\n",
       "      <th>traffic_type</th>\n",
       "      <th>has_booking</th>\n",
       "    </tr>\n",
       "  </thead>\n",
       "  <tbody>\n",
       "    <tr>\n",
       "      <th>0</th>\n",
       "      <td>1</td>\n",
       "      <td>0</td>\n",
       "    </tr>\n",
       "    <tr>\n",
       "      <th>1</th>\n",
       "      <td>2</td>\n",
       "      <td>0</td>\n",
       "    </tr>\n",
       "    <tr>\n",
       "      <th>2</th>\n",
       "      <td>2</td>\n",
       "      <td>0</td>\n",
       "    </tr>\n",
       "    <tr>\n",
       "      <th>3</th>\n",
       "      <td>1</td>\n",
       "      <td>0</td>\n",
       "    </tr>\n",
       "    <tr>\n",
       "      <th>4</th>\n",
       "      <td>2</td>\n",
       "      <td>0</td>\n",
       "    </tr>\n",
       "  </tbody>\n",
       "</table>\n",
       "</div>"
      ],
      "text/plain": [
       "   traffic_type  has_booking\n",
       "0             1            0\n",
       "1             2            0\n",
       "2             2            0\n",
       "3             1            0\n",
       "4             2            0"
      ]
     },
     "execution_count": 38,
     "metadata": {},
     "output_type": "execute_result"
    }
   ],
   "source": [
    "traffic_type_HasBooking = train[['traffic_type', 'has_booking']]\n",
    "traffic_type_HasBooking.head()"
   ]
  },
  {
   "cell_type": "code",
   "execution_count": 39,
   "metadata": {},
   "outputs": [
    {
     "data": {
      "text/plain": [
       "1     110848\n",
       "2      89600\n",
       "6      60570\n",
       "4      25675\n",
       "3      19675\n",
       "10       706\n",
       "7        603\n",
       "Name: traffic_type, dtype: int64"
      ]
     },
     "execution_count": 39,
     "metadata": {},
     "output_type": "execute_result"
    }
   ],
   "source": [
    "traffic_type_HasBooking['traffic_type'].value_counts()"
   ]
  },
  {
   "cell_type": "code",
   "execution_count": 40,
   "metadata": {},
   "outputs": [
    {
     "data": {
      "text/plain": [
       "0    288030\n",
       "1     19647\n",
       "Name: has_booking, dtype: int64"
      ]
     },
     "execution_count": 40,
     "metadata": {},
     "output_type": "execute_result"
    }
   ],
   "source": [
    "traffic_type_HasBooking['has_booking'].value_counts()"
   ]
  },
  {
   "cell_type": "markdown",
   "metadata": {},
   "source": [
    "### The Null and Alternate Hypotheses for Chi-Square test\n",
    "\n",
    "##### H0:There is no statistically significant relationship between referer_code and has_booking. \n",
    "##### Ha:There is a statistically significant relationship between referer_code and has_booking. "
   ]
  },
  {
   "cell_type": "code",
   "execution_count": 41,
   "metadata": {},
   "outputs": [
    {
     "data": {
      "text/html": [
       "<div>\n",
       "<style scoped>\n",
       "    .dataframe tbody tr th:only-of-type {\n",
       "        vertical-align: middle;\n",
       "    }\n",
       "\n",
       "    .dataframe tbody tr th {\n",
       "        vertical-align: top;\n",
       "    }\n",
       "\n",
       "    .dataframe thead th {\n",
       "        text-align: right;\n",
       "    }\n",
       "</style>\n",
       "<table border=\"1\" class=\"dataframe\">\n",
       "  <thead>\n",
       "    <tr style=\"text-align: right;\">\n",
       "      <th>traffic_type</th>\n",
       "      <th>1</th>\n",
       "      <th>2</th>\n",
       "      <th>3</th>\n",
       "      <th>4</th>\n",
       "      <th>6</th>\n",
       "      <th>7</th>\n",
       "      <th>10</th>\n",
       "      <th>All</th>\n",
       "    </tr>\n",
       "    <tr>\n",
       "      <th>has_booking</th>\n",
       "      <th></th>\n",
       "      <th></th>\n",
       "      <th></th>\n",
       "      <th></th>\n",
       "      <th></th>\n",
       "      <th></th>\n",
       "      <th></th>\n",
       "      <th></th>\n",
       "    </tr>\n",
       "  </thead>\n",
       "  <tbody>\n",
       "    <tr>\n",
       "      <th>0</th>\n",
       "      <td>99485</td>\n",
       "      <td>83811</td>\n",
       "      <td>18368</td>\n",
       "      <td>25493</td>\n",
       "      <td>59568</td>\n",
       "      <td>600</td>\n",
       "      <td>705</td>\n",
       "      <td>288030</td>\n",
       "    </tr>\n",
       "    <tr>\n",
       "      <th>1</th>\n",
       "      <td>11363</td>\n",
       "      <td>5789</td>\n",
       "      <td>1307</td>\n",
       "      <td>182</td>\n",
       "      <td>1002</td>\n",
       "      <td>3</td>\n",
       "      <td>1</td>\n",
       "      <td>19647</td>\n",
       "    </tr>\n",
       "    <tr>\n",
       "      <th>All</th>\n",
       "      <td>110848</td>\n",
       "      <td>89600</td>\n",
       "      <td>19675</td>\n",
       "      <td>25675</td>\n",
       "      <td>60570</td>\n",
       "      <td>603</td>\n",
       "      <td>706</td>\n",
       "      <td>307677</td>\n",
       "    </tr>\n",
       "  </tbody>\n",
       "</table>\n",
       "</div>"
      ],
      "text/plain": [
       "traffic_type       1      2      3      4      6    7   10     All\n",
       "has_booking                                                       \n",
       "0              99485  83811  18368  25493  59568  600  705  288030\n",
       "1              11363   5789   1307    182   1002    3    1   19647\n",
       "All           110848  89600  19675  25675  60570  603  706  307677"
      ]
     },
     "execution_count": 41,
     "metadata": {},
     "output_type": "execute_result"
    }
   ],
   "source": [
    "contingency_table = pd.crosstab(\n",
    "    traffic_type_HasBooking['has_booking'],\n",
    "    traffic_type_HasBooking['traffic_type'],\n",
    "    margins = True\n",
    ")\n",
    "contingency_table"
   ]
  },
  {
   "cell_type": "markdown",
   "metadata": {},
   "source": [
    "#### Visualizing the Contingency Table with a Stacked Bar Chart"
   ]
  },
  {
   "cell_type": "code",
   "execution_count": 42,
   "metadata": {},
   "outputs": [
    {
     "data": {
      "image/png": "[encoded data removed]",
      "text/plain": [
       "<Figure size 720x360 with 1 Axes>"
      ]
     },
     "metadata": {},
     "output_type": "display_data"
    }
   ],
   "source": [
    "#Assigns the frequency values\n",
    "No = contingency_table.iloc[0][0:7].values\n",
    "Yes = contingency_table.iloc[1][0:7].values\n",
    "\n",
    "#Plots the bar chart\n",
    "fig = plt.figure(figsize=(10, 5))\n",
    "sns.set(font_scale=1.8)\n",
    "categories = [\"1\",\"2\",\"3\",\"4\",\"6\",\"7\",\"10\"]\n",
    "p1 = plt.bar(categories, No, 0.55, color='#d62728')\n",
    "p2 = plt.bar(categories, Yes, 0.55, bottom=No)\n",
    "plt.legend((p2[0], p1[0]), ('No', 'Yes'))\n",
    "plt.xlabel('Refer Code')\n",
    "plt.ylabel('Has Booking')\n",
    "plt.show()"
   ]
  },
  {
   "cell_type": "code",
   "execution_count": 43,
   "metadata": {},
   "outputs": [
    {
     "data": {
      "text/plain": [
       "array([99485, 83811, 18368, 25493, 59568,   600,   705, 11363,  5789,\n",
       "        1307,   182,  1002,     3,     1])"
      ]
     },
     "execution_count": 43,
     "metadata": {},
     "output_type": "execute_result"
    }
   ],
   "source": [
    "f_obs = np.append(contingency_table.iloc[0][0:7].values, contingency_table.iloc[1][0:7].values)\n",
    "f_obs"
   ]
  },
  {
   "cell_type": "code",
   "execution_count": 44,
   "metadata": {},
   "outputs": [
    {
     "data": {
      "text/plain": [
       "array([288030,  19647])"
      ]
     },
     "execution_count": 44,
     "metadata": {},
     "output_type": "execute_result"
    }
   ],
   "source": [
    "row_sums = contingency_table.iloc[0:2,7].values\n",
    "row_sums"
   ]
  },
  {
   "cell_type": "code",
   "execution_count": 45,
   "metadata": {},
   "outputs": [
    {
     "data": {
      "text/plain": [
       "array([110848,  89600,  19675,  25675,  60570,    603,    706])"
      ]
     },
     "execution_count": 45,
     "metadata": {},
     "output_type": "execute_result"
    }
   ],
   "source": [
    "col_sums = contingency_table.iloc[2,0:7].values\n",
    "col_sums"
   ]
  },
  {
   "cell_type": "code",
   "execution_count": 46,
   "metadata": {},
   "outputs": [
    {
     "data": {
      "text/plain": [
       "[103769.69822248656,\n",
       " 83878.50895582055,\n",
       " 18418.63463957332,\n",
       " 24035.49907857916,\n",
       " 56702.24651176396,\n",
       " 564.4948761200869,\n",
       " 660.917715656354,\n",
       " 7078.301777513431,\n",
       " 5721.491044179448,\n",
       " 1256.3653604266813,\n",
       " 1639.5009214208408,\n",
       " 3867.7534882360396,\n",
       " 38.50512387991303,\n",
       " 45.082284343646094]"
      ]
     },
     "execution_count": 46,
     "metadata": {},
     "output_type": "execute_result"
    }
   ],
   "source": [
    "total = contingency_table.loc['All', 'All']\n",
    "\n",
    "f_expected = []\n",
    "for j in range(2):\n",
    "    for i in col_sums:\n",
    "        f_expected.append(i*row_sums[j]/total)\n",
    "f_expected"
   ]
  },
  {
   "cell_type": "code",
   "execution_count": 47,
   "metadata": {},
   "outputs": [
    {
     "name": "stdout",
     "output_type": "stream",
     "text": [
      "Chi-squared Statistic: 6506.874658406188\n"
     ]
    }
   ],
   "source": [
    "chi_squared_statistic_traffic_type = ((f_obs - f_expected)**2/f_expected).sum()\n",
    "print('Chi-squared Statistic: {}'.format(chi_squared_statistic_traffic_type))"
   ]
  },
  {
   "cell_type": "code",
   "execution_count": 48,
   "metadata": {},
   "outputs": [
    {
     "name": "stdout",
     "output_type": "stream",
     "text": [
      "Degrees of Freedom: 6\n"
     ]
    }
   ],
   "source": [
    "dof_traffic_type = (len(row_sums)-1)*(len(col_sums)-1)\n",
    "print(\"Degrees of Freedom: {}\".format(dof_traffic_type))"
   ]
  },
  {
   "cell_type": "markdown",
   "metadata": {},
   "source": [
    "## RESULTS:"
   ]
  },
  {
   "cell_type": "code",
   "execution_count": 51,
   "metadata": {},
   "outputs": [
    {
     "name": "stdout",
     "output_type": "stream",
     "text": [
      "Chi-squared Statistic between has_booking and referer_code : 4365.767623826621\n",
      "Degrees of Freedom between has_booking and referer_code : 10\n",
      "\n",
      "Chi-squared Statistic between has_booking and is_app : 216.89892149487767\n",
      "Degrees of Freedom between has_booking and is_app : 1\n",
      "\n",
      "Chi-squared Statistic between has_booking and agent_id : 2461.0311853484927\n",
      "Degrees of Freedom between has_booking and agent_id : 14\n",
      "\n",
      "Chi-squared Statistic between has_booking and traffic_type : 6506.874658406188\n",
      "Degrees of Freedom between has_booking and traffic_type : 6\n",
      "\n"
     ]
    }
   ],
   "source": [
    "print('Chi-squared Statistic between has_booking and referer_code : {}'.format(chi_squared_statistic_referer_code))\n",
    "print(\"Degrees of Freedom between has_booking and referer_code : {}\".format(dof_referer_code))\n",
    "print()\n",
    "print('Chi-squared Statistic between has_booking and is_app : {}'.format(chi_squared_statistic_is_app))\n",
    "print(\"Degrees of Freedom between has_booking and is_app : {}\".format(dof_is_app))\n",
    "print()\n",
    "print('Chi-squared Statistic between has_booking and agent_id : {}'.format(chi_squared_statistic_agent_id))\n",
    "print(\"Degrees of Freedom between has_booking and agent_id : {}\".format(dof_agent_id))\n",
    "print()\n",
    "print('Chi-squared Statistic between has_booking and traffic_type : {}'.format(chi_squared_statistic_traffic_type))\n",
    "print(\"Degrees of Freedom between has_booking and traffic_type : {}\".format(dof_traffic_type))\n",
    "print()"
   ]
  },
  {
   "cell_type": "code",
   "execution_count": null,
   "metadata": {},
   "outputs": [],
   "source": []
  }
 ],
 "metadata": {
  "kernelspec": {
   "display_name": "Python 3",
   "language": "python",
   "name": "python3"
  },
  "language_info": {
   "codemirror_mode": {
    "name": "ipython",
    "version": 3
   },
   "file_extension": ".py",
   "mimetype": "text/x-python",
   "name": "python",
   "nbconvert_exporter": "python",
   "pygments_lexer": "ipython3",
   "version": "3.6.6"
  }
 },
 "nbformat": 4,
 "nbformat_minor": 2
}
